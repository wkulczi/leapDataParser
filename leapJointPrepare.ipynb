{
 "cells": [
  {
   "cell_type": "markdown",
   "metadata": {},
   "source": [
    "OH GOD TU SĄ ODWRÓCONE OSIE\n",
    "![](https://di4564baj7skl.cloudfront.net/documentation/images/Leap_Axes.png)"
   ]
  },
  {
   "cell_type": "code",
   "execution_count": 38,
   "metadata": {},
   "outputs": [],
   "source": [
    "import tkinter\n",
    "import tkinter as tk\n",
    "from tkinter.constants import *\n",
    "import cv2\n",
    "import mediapipe as mp\n",
    "import numpy as np\n",
    "import pickle\n",
    "import PIL.Image, PIL.ImageTk\n",
    "import matplotlib.pyplot as plt\n",
    "from mpl_toolkits.mplot3d import Axes3D\n",
    "from os import listdir\n",
    "from os.path import isfile, join\n",
    "import tqdm"
   ]
  },
  {
   "cell_type": "code",
   "execution_count": 39,
   "metadata": {},
   "outputs": [],
   "source": [
    "def swapPositions(l, pos1, pos2):\n",
    "    l[pos1], l[pos2] = l[pos2], l[pos1]\n",
    "    return l\n",
    "\n",
    "def dictRewriter(leapPickleDict):\n",
    "    leapPickleDict[0][\"coords\"] = leapPickleDict[0][\"position\"]\n",
    "    leapPickleDict[0].pop('position', None)\n",
    "    leapPickleDict[1][\"coords\"] = leapPickleDict[1][\"position\"]\n",
    "    leapPickleDict[1].pop('position', None)\n",
    "    \n",
    "    #odwróć osie\n",
    "    for el in leapPickleDict:\n",
    "        el['coords'] = swapPositions(list(el['coords']), 1,2)\n",
    "    \n",
    "    return leapPickleDict\n",
    "\n",
    "def plot3d(xs, ys, zs, avg3d=[]):\n",
    "    fig = plt.figure(figsize=(10,10))\n",
    "    ax = fig.add_subplot(111, projection='3d')\n",
    "    # ax.grid(False)\n",
    "    # ax.axis('off')\n",
    "    if len(avg3d):\n",
    "        plt.plot(avg3d[0],avg3d[1],avg3d[2], marker=\"o\", markersize=8, markeredgecolor=\"red\", markerfacecolor=\"green\")\n",
    "    ax.scatter(xs,ys,zs)\n",
    "    ax.view_init(-90,-90)\n",
    "    plt.show()\n",
    "    \n",
    "def unpickle(filepath):\n",
    "    with open(filepath, \"rb\") as input_file:\n",
    "        e = pickle.load(input_file)\n",
    "    return e\n",
    "\n",
    "def dumpPickle(data, filePath):\n",
    "    with open(filePath,'wb') as f:\n",
    "        pickle.dump(data, f)"
   ]
  },
  {
   "cell_type": "code",
   "execution_count": 40,
   "metadata": {},
   "outputs": [
    {
     "name": "stderr",
     "output_type": "stream",
     "text": [
      "100%|██████████| 22000/22000 [00:06<00:00, 3447.96it/s]\n"
     ]
    }
   ],
   "source": [
    "fileNames = [f for f in listdir(\"../leapDataCollector/train/leapJoints\") if\n",
    "         isfile(join(\"../leapDataCollector/train/leapJoints\", f))]\n",
    "\n",
    "rightJointsOrder = ['wrist', 'palm', \n",
    "                    '00', '01', '02', '03', \n",
    "                    '10', '11', '12', '13',\n",
    "                    '20', '21', '22', '23',\n",
    "                    '30', '31', '32', '33',\n",
    "                    '40', '41', '42', '43']\n",
    "for file in tqdm.tqdm(fileNames):\n",
    "    filePath = f\"../leapDataCollector/train/leapJoints/{file}\"\n",
    "    savePath = f\"leapJoints/{file}\"\n",
    "    jointDicts = unpickle(filePath)\n",
    "    jointDicts = dictRewriter(jointDicts)\n",
    "    origJointsOrder = [i['pointID'] for i in jointDicts]\n",
    "    numericalJointsRightOrder = [origJointsOrder.index(i) for i in rightJointsOrder]\n",
    "    myOrderMat = [jointDicts[i]['coords'] for i in numericalJointsRightOrder]\n",
    "    myOrderMatScaled = preprocessing.minmax_scale(myOrderMat)\n",
    "    dumpPickle(myOrderMatScaled, savePath)"
   ]
  },
  {
   "cell_type": "code",
   "execution_count": 2,
   "metadata": {},
   "outputs": [],
   "source": [
    "import pickle\n",
    "with open(r\"../leapDataCollector/train/leapJoints/B-2.pickle\", \"rb\") as input_file:\n",
    "     e = pickle.load(input_file)"
   ]
  },
  {
   "cell_type": "code",
   "execution_count": 28,
   "metadata": {},
   "outputs": [
    {
     "data": {
      "text/plain": [
       "(22, 3)"
      ]
     },
     "execution_count": 28,
     "metadata": {},
     "output_type": "execute_result"
    }
   ],
   "source": [
    "myOrderMatScaled.shape"
   ]
  },
  {
   "cell_type": "code",
   "execution_count": 4,
   "metadata": {},
   "outputs": [],
   "source": [
    "e = dictRewriter(e)"
   ]
  },
  {
   "cell_type": "code",
   "execution_count": 6,
   "metadata": {},
   "outputs": [
    {
     "data": {
      "text/plain": [
       "[{'pointID': 'wrist',\n",
       "  'coords': [53.09535217285156, 64.46562957763672, 129.83262634277344]},\n",
       " {'pointID': 'palm',\n",
       "  'coords': [38.27452087402344, 20.386592864990234, 148.51451110839844]},\n",
       " {'pointID': '01',\n",
       "  'coords': [-4.837937831878662, 42.934043884277344, 139.57275390625]},\n",
       " {'pointID': '02',\n",
       "  'coords': [-15.264445304870605, 16.21870994567871, 151.9499969482422]},\n",
       " {'pointID': '03',\n",
       "  'coords': [-27.788480758666992, 1.899133563041687, 161.83787536621094]}]"
      ]
     },
     "execution_count": 6,
     "metadata": {},
     "output_type": "execute_result"
    }
   ],
   "source": [
    "e[:5]"
   ]
  },
  {
   "cell_type": "code",
   "execution_count": 36,
   "metadata": {},
   "outputs": [
    {
     "name": "stdout",
     "output_type": "stream",
     "text": [
      "Initializing nautilus-dropbox 2019.02.14\n",
      "Nautilus-Share-\u001b[1;32mMessage\u001b[0m: \u001b[34m19:33:59.969\u001b[0m: Called \"net usershare info\" but it failed: Failed to execute child process “net” (Not a directory)\n"
     ]
    }
   ],
   "source": [
    "!nautilus ."
   ]
  },
  {
   "cell_type": "markdown",
   "metadata": {},
   "source": [
    "![](leaphandex.png)"
   ]
  },
  {
   "cell_type": "markdown",
   "metadata": {},
   "source": [
    "![](leaphandnotation.png)"
   ]
  },
  {
   "cell_type": "code",
   "execution_count": 6,
   "metadata": {},
   "outputs": [
    {
     "name": "stdout",
     "output_type": "stream",
     "text": [
      "['wrist', 'palm', '01', '02', '03', '00', '11', '12', '13', '10', '21', '22', '23', '20', '31', '32', '33', '30', '41', '42', '43', '40']\n"
     ]
    }
   ],
   "source": [
    "origJointsOrder = [i['pointID'] for i in e]\n",
    "print(origJointsOrder)"
   ]
  },
  {
   "cell_type": "code",
   "execution_count": 7,
   "metadata": {},
   "outputs": [],
   "source": [
    "#MOJA notacja = to samo co mediapipe tylko na pozycji 1 wstawiłem środek dłoni (więc reszta jest przesunięta +1)\n",
    "#żeby notacja pasowała mojej notacji muszę tę poprzestawiać\n",
    "rightJointsOrder = ['wrist', 'palm', \n",
    "                    '00', '01', '02', '03', \n",
    "                    '10', '11', '12', '13',\n",
    "                    '20', '21', '22', '23',\n",
    "                    '30', '31', '32', '33',\n",
    "                    '40', '41', '42', '43']\n",
    "numericalJointsRightOrder = [origJointsOrder.index(i) for i in rightJointsOrder]"
   ]
  },
  {
   "cell_type": "code",
   "execution_count": 8,
   "metadata": {},
   "outputs": [
    {
     "data": {
      "text/plain": [
       "[0, 1, 5, 2, 3, 4, 9, 6, 7, 8, 13, 10, 11, 12, 17, 14, 15, 16, 21, 18, 19, 20]"
      ]
     },
     "execution_count": 8,
     "metadata": {},
     "output_type": "execute_result"
    }
   ],
   "source": [
    "numericalJointsRightOrder"
   ]
  },
  {
   "cell_type": "code",
   "execution_count": 9,
   "metadata": {},
   "outputs": [
    {
     "data": {
      "text/plain": [
       "[[53.09535217285156, 64.46562957763672, 129.83262634277344],\n",
       " [38.27452087402344, 20.386592864990234, 148.51451110839844],\n",
       " [27.81281852722168, 66.31800079345703, 117.7028579711914],\n",
       " [-4.837937831878662, 42.934043884277344, 139.57275390625],\n",
       " [-15.264445304870605, 16.21870994567871, 151.9499969482422],\n",
       " [-27.788480758666992, 1.899133563041687, 161.83787536621094],\n",
       " [11.967376708984375, 4.550275802612305, 159.0814208984375],\n",
       " [9.82556438446045, -34.71072769165039, 160.81813049316406],\n",
       " [8.741998672485352, -56.81220245361328, 160.01953125],\n",
       " [8.041332244873047, -72.37914276123047, 158.54762268066406],\n",
       " [31.867692947387695, 2.5136845111846924, 162.37197875976562],\n",
       " [29.92359161376953, -41.59970474243164, 162.41888427734375],\n",
       " [28.61623191833496, -67.57919311523438, 161.0098876953125],\n",
       " [27.677431106567383, -84.69288635253906, 159.3954620361328],\n",
       " [52.57698059082031, 4.832608699798584, 161.14044189453125],\n",
       " [46.799713134765625, -35.688446044921875, 161.1720428466797],\n",
       " [43.022789001464844, -60.753143310546875, 159.93746948242188],\n",
       " [40.38574981689453, -77.60430145263672, 158.50430297851562],\n",
       " [71.24312591552734, 7.005712032318115, 155.51705932617188],\n",
       " [66.2216796875, -24.919309616088867, 157.71910095214844],\n",
       " [63.08749008178711, -42.56043243408203, 157.83523559570312],\n",
       " [60.11151885986328, -58.05718994140625, 157.255126953125]]"
      ]
     },
     "execution_count": 9,
     "metadata": {},
     "output_type": "execute_result"
    }
   ],
   "source": [
    "myOrderMat = [e[i]['coords'] for i in numericalJointsRightOrder]\n",
    "myOrderMat"
   ]
  },
  {
   "cell_type": "code",
   "execution_count": 10,
   "metadata": {},
   "outputs": [],
   "source": [
    "from sklearn import preprocessing\n",
    "myOrderMatScaled = preprocessing.minmax_scale(myOrderMat)"
   ]
  },
  {
   "cell_type": "code",
   "execution_count": 11,
   "metadata": {},
   "outputs": [
    {
     "data": {
      "text/plain": [
       "array([[0.81674766, 0.98773353, 0.27126222],\n",
       "       [0.66709007, 0.69584042, 0.68905168],\n",
       "       [0.56145004, 1.        , 0.        ],\n",
       "       [0.23174968, 0.84515052, 0.48908407],\n",
       "       [0.12646503, 0.66824054, 0.76588064],\n",
       "       [0.        , 0.57341574, 0.9870067 ],\n",
       "       [0.40144615, 0.59097171, 0.92536315],\n",
       "       [0.37981859, 0.33098381, 0.96420179],\n",
       "       [0.36887697, 0.18462698, 0.94634244],\n",
       "       [0.36180179, 0.08154209, 0.91342563],\n",
       "       [0.60239529, 0.57748532, 0.99895104],\n",
       "       [0.58276417, 0.28536473, 1.        ],\n",
       "       [0.56956273, 0.11332755, 0.96849012],\n",
       "       [0.56008292, 0.        , 0.93238616],\n",
       "       [0.81151325, 0.59284133, 0.97140975],\n",
       "       [0.75317564, 0.32450932, 0.97211645],\n",
       "       [0.71503707, 0.15852991, 0.94450726],\n",
       "       [0.68840881, 0.04694089, 0.91245686],\n",
       "       [1.        , 0.6072317 , 0.8456521 ],\n",
       "       [0.94929451, 0.39582296, 0.89489712],\n",
       "       [0.91764613, 0.27900276, 0.89749428],\n",
       "       [0.88759541, 0.17638262, 0.8845211 ]])"
      ]
     },
     "execution_count": 11,
     "metadata": {},
     "output_type": "execute_result"
    }
   ],
   "source": [
    "myOrderMatScaled"
   ]
  },
  {
   "cell_type": "code",
   "execution_count": 34,
   "metadata": {},
   "outputs": [],
   "source": [
    "# todo rewrite this ^to one block script"
   ]
  },
  {
   "cell_type": "code",
   "execution_count": null,
   "metadata": {},
   "outputs": [],
   "source": [
    "[i['coords'] for i in ]"
   ]
  },
  {
   "cell_type": "code",
   "execution_count": 11,
   "metadata": {},
   "outputs": [
    {
     "data": {
      "text/plain": [
       "[[53.09535217285156, 64.46562957763672, 129.83262634277344],\n",
       " [38.27452087402344, 20.386592864990234, 148.51451110839844],\n",
       " [-4.837937831878662, 42.934043884277344, 139.57275390625],\n",
       " [-15.264445304870605, 16.21870994567871, 151.9499969482422],\n",
       " [-27.788480758666992, 1.899133563041687, 161.83787536621094],\n",
       " [27.81281852722168, 66.31800079345703, 117.7028579711914],\n",
       " [9.82556438446045, -34.71072769165039, 160.81813049316406],\n",
       " [8.741998672485352, -56.81220245361328, 160.01953125],\n",
       " [8.041332244873047, -72.37914276123047, 158.54762268066406],\n",
       " [11.967376708984375, 4.550275802612305, 159.0814208984375],\n",
       " [29.92359161376953, -41.59970474243164, 162.41888427734375],\n",
       " [28.61623191833496, -67.57919311523438, 161.0098876953125],\n",
       " [27.677431106567383, -84.69288635253906, 159.3954620361328],\n",
       " [31.867692947387695, 2.5136845111846924, 162.37197875976562],\n",
       " [46.799713134765625, -35.688446044921875, 161.1720428466797],\n",
       " [43.022789001464844, -60.753143310546875, 159.93746948242188],\n",
       " [40.38574981689453, -77.60430145263672, 158.50430297851562],\n",
       " [52.57698059082031, 4.832608699798584, 161.14044189453125],\n",
       " [66.2216796875, -24.919309616088867, 157.71910095214844],\n",
       " [63.08749008178711, -42.56043243408203, 157.83523559570312],\n",
       " [60.11151885986328, -58.05718994140625, 157.255126953125],\n",
       " [71.24312591552734, 7.005712032318115, 155.51705932617188]]"
      ]
     },
     "execution_count": 11,
     "metadata": {},
     "output_type": "execute_result"
    }
   ],
   "source": [
    "mat = [i['coords'] for i in e]\n",
    "mat"
   ]
  },
  {
   "cell_type": "code",
   "execution_count": 12,
   "metadata": {},
   "outputs": [
    {
     "data": {
      "text/plain": [
       "array([[ 53.095352 ,  64.46563  , 129.83263  ],\n",
       "       [ 38.27452  ,  20.386593 , 148.51451  ],\n",
       "       [ -4.837938 ,  42.934044 , 139.57275  ],\n",
       "       [-15.264445 ,  16.21871  , 151.95     ],\n",
       "       [-27.78848  ,   1.8991336, 161.83788  ],\n",
       "       [ 27.812819 ,  66.318    , 117.70286  ],\n",
       "       [  9.825564 , -34.710728 , 160.81813  ],\n",
       "       [  8.741999 , -56.812202 , 160.01953  ],\n",
       "       [  8.041332 , -72.37914  , 158.54762  ],\n",
       "       [ 11.967377 ,   4.550276 , 159.08142  ],\n",
       "       [ 29.923592 , -41.599705 , 162.41888  ],\n",
       "       [ 28.616232 , -67.57919  , 161.00989  ],\n",
       "       [ 27.677431 , -84.69289  , 159.39546  ],\n",
       "       [ 31.867693 ,   2.5136845, 162.37198  ],\n",
       "       [ 46.799713 , -35.688446 , 161.17204  ],\n",
       "       [ 43.02279  , -60.753143 , 159.93747  ],\n",
       "       [ 40.38575  , -77.6043   , 158.5043   ],\n",
       "       [ 52.57698  ,   4.8326087, 161.14044  ],\n",
       "       [ 66.22168  , -24.91931  , 157.7191   ],\n",
       "       [ 63.08749  , -42.560432 , 157.83524  ],\n",
       "       [ 60.11152  , -58.05719  , 157.25513  ],\n",
       "       [ 71.243126 ,   7.005712 , 155.51706  ]], dtype=float32)"
      ]
     },
     "execution_count": 12,
     "metadata": {},
     "output_type": "execute_result"
    }
   ],
   "source": [
    "npmat = np.array(mat,dtype=np.float32)\n",
    "npmat"
   ]
  },
  {
   "cell_type": "code",
   "execution_count": 136,
   "metadata": {},
   "outputs": [
    {
     "data": {
      "text/plain": [
       "array([[ 0.06768111,  0.0821749 ,  0.1654988 ],\n",
       "       [ 0.04878887,  0.02598697,  0.18931276],\n",
       "       [-0.00616696,  0.0547284 ,  0.17791462],\n",
       "       [-0.01945772,  0.02067413,  0.193692  ],\n",
       "       [-0.03542222,  0.00242084,  0.20629616],\n",
       "       [ 0.03545325,  0.08453614,  0.15003687],\n",
       "       [ 0.01252473, -0.04424607,  0.20499627],\n",
       "       [ 0.0111435 , -0.07241901,  0.2039783 ],\n",
       "       [ 0.01025036, -0.09226233,  0.20210205],\n",
       "       [ 0.01525492,  0.00580028,  0.20278248],\n",
       "       [ 0.03814387, -0.05302751,  0.20703678],\n",
       "       [ 0.03647736, -0.08614379,  0.20524071],\n",
       "       [ 0.03528066, -0.10795876,  0.20318279],\n",
       "       [ 0.04062203,  0.00320422,  0.20697698],\n",
       "       [ 0.05965601, -0.04549237,  0.20544742],\n",
       "       [ 0.05484153, -0.07744256,  0.2038737 ],\n",
       "       [ 0.05148007, -0.09892289,  0.20204683],\n",
       "       [ 0.06702033,  0.00616017,  0.20540713],\n",
       "       [ 0.08441336, -0.03176486,  0.20104592],\n",
       "       [ 0.08041818, -0.05425216,  0.20119396],\n",
       "       [ 0.07662468, -0.07400601,  0.20045449],\n",
       "       [ 0.09081424,  0.00893024,  0.19823895]], dtype=float32)"
      ]
     },
     "execution_count": 136,
     "metadata": {},
     "output_type": "execute_result"
    }
   ],
   "source": [
    "norm = np.linalg.norm(npmat)\n",
    "npmat = npmat/norm  # normalized matrix\n",
    "npmat"
   ]
  },
  {
   "cell_type": "code",
   "execution_count": 164,
   "metadata": {},
   "outputs": [],
   "source": [
    "import numpy\n",
    "avg3d = numpy.average(mat, axis=0)"
   ]
  },
  {
   "cell_type": "code",
   "execution_count": 163,
   "metadata": {},
   "outputs": [],
   "source": [
    "xs = [i[0] for i in mat]\n",
    "ys = [i[1] for i in mat]\n",
    "zs = [i[2] for i in mat]"
   ]
  },
  {
   "cell_type": "code",
   "execution_count": 166,
   "metadata": {},
   "outputs": [
    {
     "data": {
      "image/png": "[encoded data removed]",
      "text/plain": [
       "<Figure size 720x720 with 1 Axes>"
      ]
     },
     "metadata": {
      "needs_background": "light"
     },
     "output_type": "display_data"
    }
   ],
   "source": [
    "plot3d(xs,ys,zs, palmAvg3d)"
   ]
  },
  {
   "cell_type": "code",
   "execution_count": 138,
   "metadata": {},
   "outputs": [
    {
     "data": {
      "image/png": "[encoded data removed]",
      "text/plain": [
       "<Figure size 720x720 with 1 Axes>"
      ]
     },
     "metadata": {
      "needs_background": "light"
     },
     "output_type": "display_data"
    }
   ],
   "source": [
    "plot3d(npxs,npys,npzs)"
   ]
  },
  {
   "cell_type": "code",
   "execution_count": 137,
   "metadata": {},
   "outputs": [],
   "source": [
    "npxs = [i[0] for i in npmat]\n",
    "npys = [i[1] for i in npmat]\n",
    "npzs = [i[2] for i in npmat]"
   ]
  },
  {
   "cell_type": "code",
   "execution_count": 124,
   "metadata": {},
   "outputs": [],
   "source": [
    "def plot2d(xs,ys, avg2d=[]):\n",
    "    fig = plt.figure(figsize=(10,10))\n",
    "    ax = fig.add_subplot()\n",
    "    # ax.grid(False)\n",
    "    # ax.axis('off')\n",
    "    ax.scatter(xs,ys)\n",
    "    if len(avg2d):\n",
    "        plt.plot(avg2d[0],avg2d[1], marker=\"o\", markersize=8, markeredgecolor=\"red\", markerfacecolor=\"green\")\n",
    "    plt.gca().invert_yaxis()\n",
    "    # ax.view_init(-90,-110)\n",
    "    plt.show()"
   ]
  },
  {
   "cell_type": "code",
   "execution_count": 125,
   "metadata": {},
   "outputs": [
    {
     "data": {
      "image/png": "[encoded data removed]",
      "text/plain": [
       "<Figure size 720x720 with 1 Axes>"
      ]
     },
     "metadata": {
      "needs_background": "light"
     },
     "output_type": "display_data"
    }
   ],
   "source": [
    "plot2d(xs,ys)"
   ]
  }
 ],
 "metadata": {
  "kernelspec": {
   "display_name": "Python 3",
   "language": "python",
   "name": "python3"
  },
  "language_info": {
   "codemirror_mode": {
    "name": "ipython",
    "version": 3
   },
   "file_extension": ".py",
   "mimetype": "text/x-python",
   "name": "python",
   "nbconvert_exporter": "python",
   "pygments_lexer": "ipython3",
   "version": "3.8.10"
  }
 },
 "nbformat": 4,
 "nbformat_minor": 4
}
