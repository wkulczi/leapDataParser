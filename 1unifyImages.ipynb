{
 "cells": [
  {
   "cell_type": "markdown",
   "metadata": {},
   "source": [
    "Resize and pad images to unify their resolutions"
   ]
  },
  {
   "cell_type": "code",
   "execution_count": 1,
   "metadata": {},
   "outputs": [],
   "source": [
    "import cv2\n",
    "import os\n",
    "import tqdm\n",
    "import numpy as np\n",
    "from matplotlib import pyplot as plt\n",
    "croppedHandPhotosFolder = \"leapCropped\"\n",
    "fileNames = [file for file in \n",
    "os.listdir(f\"../train/photoRaw/{croppedHandPhotosFolder}\") if os.path.isfile(os.path.join(f\"../train/photoRaw/{croppedHandPhotosFolder}\", file))]\n",
    "jointPhotosFolders = [\"leapJoints\", \"mpPhotos\"]"
   ]
  },
  {
   "cell_type": "code",
   "execution_count": 2,
   "metadata": {},
   "outputs": [],
   "source": [
    "def image_resize(image, width = None, height = None, inter = cv2.INTER_AREA):\n",
    "    # initialize the dimensions of the image to be resized and\n",
    "    # grab the image size\n",
    "    dim = None\n",
    "    (h, w) = image.shape[:2]\n",
    "\n",
    "    # if both the width and height are None, then return the\n",
    "    # original image\n",
    "    if width is None and height is None:\n",
    "        return image\n",
    "\n",
    "    # check to see if the width is None\n",
    "    if width is None:\n",
    "        # calculate the ratio of the height and construct the\n",
    "        # dimensions\n",
    "        r = height / float(h)\n",
    "        dim = (int(w * r), height)\n",
    "\n",
    "    # otherwise, the height is None\n",
    "    else:\n",
    "        # calculate the ratio of the width and construct the\n",
    "        # dimensions\n",
    "        r = width / float(w)\n",
    "        dim = (width, int(h * r))\n",
    "\n",
    "    # resize the image\n",
    "    resized = cv2.resize(image, dim, interpolation = inter)\n",
    "\n",
    "    # return the resized image\n",
    "    return resized"
   ]
  },
  {
   "cell_type": "code",
   "execution_count": 3,
   "metadata": {},
   "outputs": [],
   "source": [
    "def padImageToSize(oldImg, newHeight, newWidth, fillVal=0, isGrayscale=True):\n",
    "    if isGrayscale:\n",
    "        oldHeight, oldWidth = oldImg.shape\n",
    "        result = np.full((newHeight, newWidth), fillVal, dtype=np.uint8)\n",
    "    else:\n",
    "        oldHeight, oldWidth, oldDepth = oldImg.shape\n",
    "        result = np.full((newHeight, newWidth, oldDepth), fillVal, dtype=np.uint8)\n",
    "\n",
    "    xCenter = (newWidth - oldWidth) // 2\n",
    "    yCenter = (newHeight - oldHeight) // 2\n",
    "\n",
    "    result[yCenter: yCenter + oldHeight, xCenter:xCenter + oldWidth] = oldImg\n",
    "\n",
    "    return result"
   ]
  },
  {
   "cell_type": "code",
   "execution_count": 4,
   "metadata": {},
   "outputs": [],
   "source": [
    "def getSizes(path):\n",
    "    widths = []\n",
    "    heights = []\n",
    "    for fileName in tqdm.tqdm(fileNames):\n",
    "        readPath = f\"{path}/{croppedHandPhotosFolder}/{fileName}\"\n",
    "        im = cv2.imread(readPath)\n",
    "        gray = cv2.cvtColor(im, cv2.COLOR_BGR2GRAY)\n",
    "        h, w = gray.shape\n",
    "        widths.append(w)\n",
    "        heights.append(h)\n",
    "\n",
    "\n",
    "        maxWidth = max(widths)\n",
    "        maxHeight = max(heights)\n",
    "    print(f\"max width: {maxWidth}, max height: {maxHeight}\")\n",
    "    return widths,heights"
   ]
  },
  {
   "cell_type": "code",
   "execution_count": 16,
   "metadata": {},
   "outputs": [],
   "source": [
    "def resizeImages(readFolderPath, writeFolderPath, height = None, width=None):\n",
    "    for fileName in tqdm.tqdm(fileNames):\n",
    "        readPath=readPath = f\"{readFolderPath}/{croppedHandPhotosFolder}/{fileName}\"\n",
    "        writePath = f\"{writeFolderPath}/{croppedHandPhotosFolder}/{fileName}\"\n",
    "        im = cv2.imread(readPath)\n",
    "        gray = cv2.cvtColor(im, cv2.COLOR_BGR2GRAY)\n",
    "        grayres = image_resize(gray, height=height, width=width)\n",
    "        cv2.imwrite(writePath, grayres) # Save the image\n",
    "\n",
    "        for folder in jointPhotosFolders:\n",
    "            readPath = f\"{readFolderPath}/{folder}/{fileName}\"\n",
    "            writePath = f\"{writeFolderPath}/{folder}/{fileName}\"\n",
    "            im = cv2.imread(readPath)\n",
    "            imres = image_resize(im, height=height, width=width)\n",
    "            cv2.imwrite(writePath, imres)"
   ]
  },
  {
   "cell_type": "code",
   "execution_count": 24,
   "metadata": {},
   "outputs": [],
   "source": [
    "def padImages(readFolderPath, writeFolderPath, height = None, width=None):\n",
    "    for fileName in tqdm.tqdm(fileNames):\n",
    "        readPath=readPath = f\"{readFolderPath}/{croppedHandPhotosFolder}/{fileName}\"\n",
    "        writePath = f\"{writeFolderPath}/{croppedHandPhotosFolder}/{fileName}\"\n",
    "        im = cv2.imread(readPath)\n",
    "        gray = cv2.cvtColor(im, cv2.COLOR_BGR2GRAY)\n",
    "        resizeVal = 0\n",
    "        if height is not None:\n",
    "            resizeVal = height\n",
    "        else:\n",
    "            resizeVal = width\n",
    "        grayres = padImageToSize(gray, resizeVal, resizeVal, isGrayscale=True)\n",
    "        cv2.imwrite(writePath, grayres) # Save the image\n",
    "\n",
    "        for folder in jointPhotosFolders:\n",
    "            readPath = f\"{readFolderPath}/{folder}/{fileName}\"\n",
    "            writePath = f\"{writeFolderPath}/{folder}/{fileName}\"\n",
    "            im = cv2.imread(readPath)\n",
    "            imres = padImageToSize(im, resizeVal, resizeVal, isGrayscale=False)\n",
    "            cv2.imwrite(writePath, imres)"
   ]
  },
  {
   "cell_type": "code",
   "execution_count": 29,
   "metadata": {},
   "outputs": [],
   "source": [
    "def callPadWithBiggerValue(widths, heights, readFolderPath, writeFolderPath):\n",
    "    maxWidth = max(widths)\n",
    "    maxHeight = max(heights)\n",
    "    if maxWidth>maxHeight:\n",
    "        padImages(readFolderPath, writeFolderPath,width=maxWidth)\n",
    "    else:\n",
    "        padImages(readFolderPath, writeFolderPath,height=maxHeight)"
   ]
  },
  {
   "cell_type": "code",
   "execution_count": 32,
   "metadata": {},
   "outputs": [
    {
     "name": "stderr",
     "output_type": "stream",
     "text": [
      "100%|██████████| 22000/22000 [00:05<00:00, 4341.74it/s]\n",
      "  1%|          | 146/22000 [00:00<00:15, 1456.65it/s]"
     ]
    },
    {
     "name": "stdout",
     "output_type": "stream",
     "text": [
      "max width: 144, max height: 171\n",
      "orig min height 64\n"
     ]
    },
    {
     "name": "stderr",
     "output_type": "stream",
     "text": [
      "100%|██████████| 22000/22000 [00:14<00:00, 1559.01it/s]\n",
      "100%|██████████| 22000/22000 [00:30<00:00, 727.51it/s]\n",
      "100%|██████████| 22000/22000 [00:04<00:00, 4769.05it/s]\n",
      "  3%|▎         | 572/22000 [00:00<00:03, 5718.31it/s]"
     ]
    },
    {
     "name": "stdout",
     "output_type": "stream",
     "text": [
      "max width: 102, max height: 64\n"
     ]
    },
    {
     "name": "stderr",
     "output_type": "stream",
     "text": [
      "100%|██████████| 22000/22000 [00:07<00:00, 2918.12it/s]\n",
      "  1%|          | 113/22000 [00:00<00:19, 1129.30it/s]"
     ]
    },
    {
     "name": "stdout",
     "output_type": "stream",
     "text": [
      "max width: 273, max height: 171\n"
     ]
    },
    {
     "name": "stderr",
     "output_type": "stream",
     "text": [
      "100%|██████████| 22000/22000 [00:16<00:00, 1313.81it/s]\n",
      "100%|██████████| 22000/22000 [01:11<00:00, 308.35it/s]\n"
     ]
    }
   ],
   "source": [
    "#1. read min and max sizes from original images\n",
    "origWidths, origHeights = getSizes(\"../train/photoRaw\")\n",
    "print(\"orig min height\", min(origHeights))\n",
    "\n",
    "#2. resize images to fit chosen rules\n",
    "resizeImages(\"../train/photoRaw\", \"../train/photoPadded/minHeight\", min(origHeights))\n",
    "resizeImages(\"../train/photoRaw\", \"../train/photoPadded/maxHeight\", max(origHeights))\n",
    "\n",
    "#3. get sizes of new images\n",
    "minsizeWidths, minsizeHeights = getSizes(\"../train/photoPadded/minHeight\")\n",
    "maxsizeWidths, maxsizeHeights = getSizes(\"../train/photoPadded/maxHeight\")\n",
    "\n",
    "#4. pad images to even out the images\n",
    "callPadWithBiggerValue(minsizeWidths, minsizeHeights, \"../train/photoPadded/minHeight\", \"../train/photoPadded/minHeight\")\n",
    "callPadWithBiggerValue(maxsizeWidths, maxsizeHeights, \"../train/photoPadded/maxHeight\", \"../train/photoPadded/maxHeight\")"
   ]
  },
  {
   "cell_type": "code",
   "execution_count": 33,
   "metadata": {},
   "outputs": [
    {
     "name": "stderr",
     "output_type": "stream",
     "text": [
      "100%|██████████| 22000/22000 [00:05<00:00, 4086.40it/s]\n",
      "  1%|          | 129/22000 [00:00<00:17, 1283.13it/s]"
     ]
    },
    {
     "name": "stdout",
     "output_type": "stream",
     "text": [
      "max width: 144, max height: 171\n",
      "orig min width 63\n"
     ]
    },
    {
     "name": "stderr",
     "output_type": "stream",
     "text": [
      "100%|██████████| 22000/22000 [00:18<00:00, 1220.18it/s]\n",
      "100%|██████████| 22000/22000 [00:29<00:00, 741.74it/s]\n",
      "100%|██████████| 22000/22000 [00:05<00:00, 4097.80it/s]\n",
      "  3%|▎         | 567/22000 [00:00<00:03, 5666.97it/s]"
     ]
    },
    {
     "name": "stdout",
     "output_type": "stream",
     "text": [
      "max width: 63, max height: 113\n"
     ]
    },
    {
     "name": "stderr",
     "output_type": "stream",
     "text": [
      "100%|██████████| 22000/22000 [00:07<00:00, 3010.24it/s]\n",
      "  0%|          | 87/22000 [00:00<00:25, 868.93it/s]"
     ]
    },
    {
     "name": "stdout",
     "output_type": "stream",
     "text": [
      "max width: 144, max height: 259\n"
     ]
    },
    {
     "name": "stderr",
     "output_type": "stream",
     "text": [
      "100%|██████████| 22000/22000 [00:19<00:00, 1142.98it/s]\n",
      "100%|██████████| 22000/22000 [01:11<00:00, 308.99it/s]\n"
     ]
    }
   ],
   "source": [
    "#1. read min and max sizes from original images\n",
    "origWidths, origHeights = getSizes(\"../train/photoRaw\")\n",
    "print(\"orig min width\", min(origWidths))\n",
    "\n",
    "#2. resize images to fit chosen rules\n",
    "resizeImages(\"../train/photoRaw\", \"../train/photoPadded/minWidth\", None, min(origWidths))\n",
    "resizeImages(\"../train/photoRaw\", \"../train/photoPadded/maxWidth\", None, max(origWidths))\n",
    "\n",
    "#3. get sizes of new images\n",
    "minsizeWidths, minsizeHeights = getSizes(\"../train/photoPadded/minWidth\")\n",
    "maxsizeWidths, maxsizeHeights = getSizes(\"../train/photoPadded/maxWidth\")\n",
    "\n",
    "#4. pad images to even out the images\n",
    "callPadWithBiggerValue(minsizeWidths, minsizeHeights, \"../train/photoPadded/minWidth\", \"../train/photoPadded/minWidth\")\n",
    "callPadWithBiggerValue(maxsizeWidths, maxsizeHeights, \"../train/photoPadded/maxWidth\", \"../train/photoPadded/maxWidth\")"
   ]
  },
  {
   "cell_type": "code",
   "execution_count": 48,
   "metadata": {},
   "outputs": [],
   "source": [
    "!eog ../train/photoPadded/maxHeight/leapCropped/A-2.jpeg"
   ]
  },
  {
   "cell_type": "code",
   "execution_count": 100,
   "metadata": {},
   "outputs": [],
   "source": [
    "gr = cv2.cvtColor(cv2.imread(\"minsizeTrain/leapCropped/B-212.jpeg\"), cv2.COLOR_BGR2GRAY)"
   ]
  },
  {
   "cell_type": "code",
   "execution_count": 101,
   "metadata": {},
   "outputs": [],
   "source": [
    "gr = padImageToSize(gr, max(widths), max(widths), isGrayscale=True)"
   ]
  },
  {
   "cell_type": "code",
   "execution_count": 102,
   "metadata": {},
   "outputs": [
    {
     "data": {
      "text/plain": [
       "(64, 64)"
      ]
     },
     "execution_count": 102,
     "metadata": {},
     "output_type": "execute_result"
    }
   ],
   "source": [
    "gr.shape"
   ]
  },
  {
   "cell_type": "code",
   "execution_count": 58,
   "metadata": {},
   "outputs": [
    {
     "data": {
      "text/plain": [
       "63"
      ]
     },
     "execution_count": 58,
     "metadata": {},
     "output_type": "execute_result"
    }
   ],
   "source": [
    "min(widths)"
   ]
  },
  {
   "cell_type": "code",
   "execution_count": 78,
   "metadata": {},
   "outputs": [
    {
     "data": {
      "text/plain": [
       "40"
      ]
     },
     "execution_count": 78,
     "metadata": {},
     "output_type": "execute_result"
    }
   ],
   "source": [
    "min(heights)"
   ]
  },
  {
   "cell_type": "code",
   "execution_count": 56,
   "metadata": {},
   "outputs": [
    {
     "data": {
      "text/plain": [
       "2936"
      ]
     },
     "execution_count": 56,
     "metadata": {},
     "output_type": "execute_result"
    }
   ],
   "source": [
    "len([i for i in range(len(widths)) if widths[i] > heights[i]])"
   ]
  },
  {
   "cell_type": "code",
   "execution_count": 23,
   "metadata": {},
   "outputs": [
    {
     "data": {
      "text/plain": [
       "6631"
      ]
     },
     "execution_count": 23,
     "metadata": {},
     "output_type": "execute_result"
    }
   ],
   "source": [
    "widths.index(max(widths))"
   ]
  },
  {
   "cell_type": "code",
   "execution_count": 26,
   "metadata": {},
   "outputs": [
    {
     "data": {
      "text/plain": [
       "'B-702.jpeg'"
      ]
     },
     "execution_count": 26,
     "metadata": {},
     "output_type": "execute_result"
    }
   ],
   "source": [
    "fileNames[6631]"
   ]
  },
  {
   "cell_type": "code",
   "execution_count": 39,
   "metadata": {},
   "outputs": [
    {
     "data": {
      "text/plain": [
       "144"
      ]
     },
     "execution_count": 39,
     "metadata": {},
     "output_type": "execute_result"
    }
   ],
   "source": [
    "maxWidth"
   ]
  },
  {
   "cell_type": "code",
   "execution_count": 51,
   "metadata": {},
   "outputs": [],
   "source": [
    "im = cv2.imread(f\"train/leapCropped/{fileNames[8]}\")\n",
    "gray = cv2.cvtColor(im, cv2.COLOR_BGR2GRAY)\n",
    "grayres= image_resize(gray, height=maxHeight)"
   ]
  },
  {
   "cell_type": "code",
   "execution_count": 52,
   "metadata": {},
   "outputs": [
    {
     "data": {
      "text/plain": [
       "(171, 205)"
      ]
     },
     "execution_count": 52,
     "metadata": {},
     "output_type": "execute_result"
    }
   ],
   "source": [
    "grayres.shape"
   ]
  },
  {
   "cell_type": "code",
   "execution_count": 53,
   "metadata": {},
   "outputs": [
    {
     "data": {
      "text/plain": [
       "(80, 96)"
      ]
     },
     "execution_count": 53,
     "metadata": {},
     "output_type": "execute_result"
    }
   ],
   "source": [
    "gray.shape"
   ]
  },
  {
   "cell_type": "code",
   "execution_count": null,
   "metadata": {},
   "outputs": [],
   "source": [
    "im=cv2.imread(\"train/leapCropped/B-2.jpeg\")\n",
    "gr = cv2.cvtColor(im, cv2.COLOR_BGR2GRAY)\n",
    "grayres = image_resize(gr, height=max(heights))"
   ]
  },
  {
   "cell_type": "code",
   "execution_count": 5,
   "metadata": {},
   "outputs": [],
   "source": [
    "im=cv2.imread(\"train/leapCropped/B-2.jpeg\")\n",
    "gr = cv2.cvtColor(im, cv2.COLOR_BGR2GRAY)"
   ]
  },
  {
   "cell_type": "code",
   "execution_count": 6,
   "metadata": {},
   "outputs": [
    {
     "data": {
      "text/plain": [
       "(96, 79)"
      ]
     },
     "execution_count": 6,
     "metadata": {},
     "output_type": "execute_result"
    }
   ],
   "source": [
    "gr.shape"
   ]
  },
  {
   "cell_type": "code",
   "execution_count": 46,
   "metadata": {},
   "outputs": [
    {
     "data": {
      "image/png": "[encoded data removed]",
      "text/plain": [
       "<Figure size 432x288 with 1 Axes>"
      ]
     },
     "metadata": {
      "needs_background": "light"
     },
     "output_type": "display_data"
    }
   ],
   "source": [
    "plt.imshow(grayres, cmap=plt.get_cmap('gray'))\n",
    "plt.show()"
   ]
  },
  {
   "cell_type": "code",
   "execution_count": 10,
   "metadata": {},
   "outputs": [],
   "source": [
    "grayres = image_resize(gr, height=max(heights))"
   ]
  },
  {
   "cell_type": "code",
   "execution_count": 11,
   "metadata": {},
   "outputs": [
    {
     "data": {
      "text/plain": [
       "(144, 118)"
      ]
     },
     "execution_count": 11,
     "metadata": {},
     "output_type": "execute_result"
    }
   ],
   "source": [
    "grayres.shape"
   ]
  },
  {
   "cell_type": "code",
   "execution_count": 12,
   "metadata": {},
   "outputs": [
    {
     "data": {
      "image/png": "[encoded data removed]",
      "text/plain": [
       "<Figure size 432x288 with 1 Axes>"
      ]
     },
     "metadata": {
      "needs_background": "light"
     },
     "output_type": "display_data"
    }
   ],
   "source": [
    "plt.imshow(grayres, cmap=plt.get_cmap('gray'))\n",
    "plt.show()"
   ]
  },
  {
   "cell_type": "code",
   "execution_count": 9,
   "metadata": {},
   "outputs": [],
   "source": []
  }
 ],
 "metadata": {
  "kernelspec": {
   "display_name": "Python 3",
   "language": "python",
   "name": "python3"
  },
  "language_info": {
   "codemirror_mode": {
    "name": "ipython",
    "version": 3
   },
   "file_extension": ".py",
   "mimetype": "text/x-python",
   "name": "python",
   "nbconvert_exporter": "python",
   "pygments_lexer": "ipython3",
   "version": "3.8.10"
  }
 },
 "nbformat": 4,
 "nbformat_minor": 4
}
