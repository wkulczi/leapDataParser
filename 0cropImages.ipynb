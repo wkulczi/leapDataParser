{
 "cells": [
  {
   "cell_type": "markdown",
   "metadata": {},
   "source": [
    "### Crop image script\n",
    "Crop any padding that was made on `leapCropped` images, use the same coordinates on joints image"
   ]
  },
  {
   "cell_type": "code",
   "execution_count": 71,
   "metadata": {},
   "outputs": [],
   "source": [
    "import os\n",
    "import tqdm\n",
    "croppedHandPhotosFolder = \"leapCropped\"\n",
    "fileNames = [file for file in \n",
    "os.listdir(f\"../leapDataCollector/train/{croppedHandPhotosFolder}\") if os.path.isfile(os.path.join(f\"../leapDataCollector/train/{croppedHandPhotosFolder}\", file))]\n",
    "\n",
    "jointPhotosFolders = [\"leapPhotos\", \"mpPhotos\"]"
   ]
  },
  {
   "cell_type": "code",
   "execution_count": 73,
   "metadata": {},
   "outputs": [
    {
     "name": "stderr",
     "output_type": "stream",
     "text": [
      "100%|██████████| 22000/22000 [01:21<00:00, 271.18it/s]\n"
     ]
    }
   ],
   "source": [
    "for fileName in tqdm.tqdm(fileNames):\n",
    "    readPath = f\"../leapDataCollector/train/{croppedHandPhotosFolder}/{fileName}\"\n",
    "    writePath = f\"train/{croppedHandPhotosFolder}/{fileName}\"\n",
    "    im = cv2.imread(readPath)\n",
    "    gray = cv2.cvtColor(im, cv2.COLOR_BGR2GRAY)\n",
    "    coords = cv2.findNonZero(gray)\n",
    "    x,y,w,h = cv2.boundingRect(coords)\n",
    "    rect = gray[y:y+h, x:x+w]\n",
    "    cv2.imwrite(writePath, rect) # Save the image\n",
    "    \n",
    "    for folder in jointPhotosFolders:\n",
    "        readPath = f\"../leapDataCollector/train/{folder}/{fileName}\"\n",
    "        writePath = f\"train/{folder}/{fileName}\"\n",
    "        im = cv2.imread(readPath)\n",
    "        rect = im[y:y+h, x:x+w]\n",
    "        cv2.imwrite(writePath, rect)"
   ]
  },
  {
   "cell_type": "markdown",
   "metadata": {},
   "source": [
    "----\n",
    "#### Drafts below"
   ]
  },
  {
   "cell_type": "code",
   "execution_count": null,
   "metadata": {},
   "outputs": [],
   "source": [
    "!ls ../leapDataCollector/train/leapCropped"
   ]
  },
  {
   "cell_type": "code",
   "execution_count": 36,
   "metadata": {},
   "outputs": [],
   "source": [
    "!mkdir train/leapPhotos"
   ]
  },
  {
   "cell_type": "code",
   "execution_count": 2,
   "metadata": {},
   "outputs": [],
   "source": [
    "import cv2\n",
    "from matplotlib import pyplot as plt"
   ]
  },
  {
   "cell_type": "code",
   "execution_count": 63,
   "metadata": {},
   "outputs": [
    {
     "data": {
      "text/plain": [
       "['I-1360.jpeg']"
      ]
     },
     "execution_count": 63,
     "metadata": {},
     "output_type": "execute_result"
    }
   ],
   "source": [
    "fileNames"
   ]
  },
  {
   "cell_type": "code",
   "execution_count": 3,
   "metadata": {},
   "outputs": [],
   "source": [
    "path = \"../leapDataCollector/train/leapCropped/B-684.jpeg\""
   ]
  },
  {
   "cell_type": "code",
   "execution_count": 8,
   "metadata": {},
   "outputs": [],
   "source": [
    "im = cv2.imread(path)\n",
    "gray = cv2.cvtColor(im, cv2.COLOR_BGR2GRAY)"
   ]
  },
  {
   "cell_type": "code",
   "execution_count": 9,
   "metadata": {},
   "outputs": [
    {
     "data": {
      "image/png": "[encoded data removed]",
      "text/plain": [
       "<Figure size 432x288 with 1 Axes>"
      ]
     },
     "metadata": {
      "needs_background": "light"
     },
     "output_type": "display_data"
    }
   ],
   "source": [
    "plt.imshow(gray, cmap=plt.get_cmap('gray'))\n",
    "plt.show()"
   ]
  },
  {
   "cell_type": "code",
   "execution_count": 24,
   "metadata": {},
   "outputs": [
    {
     "data": {
      "text/plain": [
       "400"
      ]
     },
     "execution_count": 24,
     "metadata": {},
     "output_type": "execute_result"
    }
   ],
   "source": [
    "len(gray)"
   ]
  },
  {
   "cell_type": "code",
   "execution_count": 10,
   "metadata": {},
   "outputs": [],
   "source": [
    "import numpy as np\n",
    "import cv2\n",
    "\n",
    "coords = cv2.findNonZero(gray) # Find all non-zero points (text)\n",
    "x, y, w, h = cv2.boundingRect(coords) # Find minimum spanning bounding box\n",
    "# rect = img[y:y+h, x:x+w] # Crop the image - note we do this on the original image\n",
    "# cv2.imwrite(\"rect.png\", rect) # Save the image\n",
    "gray = cv2.rectangle(gray, (x+w, y+h), (x,y), 255,1)"
   ]
  },
  {
   "cell_type": "code",
   "execution_count": 11,
   "metadata": {},
   "outputs": [
    {
     "data": {
      "image/png": "[encoded data removed]",
      "text/plain": [
       "<Figure size 432x288 with 1 Axes>"
      ]
     },
     "metadata": {
      "needs_background": "light"
     },
     "output_type": "display_data"
    }
   ],
   "source": [
    "plt.imshow(gray, cmap=plt.get_cmap('gray'))\n",
    "plt.show()"
   ]
  },
  {
   "cell_type": "code",
   "execution_count": 28,
   "metadata": {},
   "outputs": [],
   "source": [
    "pathJoint = \"../leapDataCollector/train/leapPhotos/B-684.jpeg\""
   ]
  },
  {
   "cell_type": "code",
   "execution_count": 29,
   "metadata": {},
   "outputs": [],
   "source": [
    "jointImg = cv2.imread(pathJoint)"
   ]
  },
  {
   "cell_type": "code",
   "execution_count": 30,
   "metadata": {},
   "outputs": [
    {
     "data": {
      "image/png": "[encoded data removed]",
      "text/plain": [
       "<Figure size 432x288 with 1 Axes>"
      ]
     },
     "metadata": {
      "needs_background": "light"
     },
     "output_type": "display_data"
    }
   ],
   "source": [
    "jointIm = cv2.cvtColor(jointImg, cv2.COLOR_BGR2RGB)\n",
    "jointIm = cv2.rectangle(jointIm, (x+w, y+h), (x,y), 255,1)\n",
    "plt.imshow(jointIm)\n",
    "plt.show()"
   ]
  }
 ],
 "metadata": {
  "kernelspec": {
   "display_name": "Python 3",
   "language": "python",
   "name": "python3"
  },
  "language_info": {
   "codemirror_mode": {
    "name": "ipython",
    "version": 3
   },
   "file_extension": ".py",
   "mimetype": "text/x-python",
   "name": "python",
   "nbconvert_exporter": "python",
   "pygments_lexer": "ipython3",
   "version": "3.8.10"
  }
 },
 "nbformat": 4,
 "nbformat_minor": 4
}
